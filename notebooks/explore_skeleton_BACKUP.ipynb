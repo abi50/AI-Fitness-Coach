{
 "cells": [
  {
   "cell_type": "code",
   "execution_count": 2,
   "id": "8a899e74",
   "metadata": {},
   "outputs": [],
   "source": [
    "import numpy as np\n",
    "import os"
   ]
  },
  {
   "cell_type": "code",
   "execution_count": 3,
   "id": "d1d5073f",
   "metadata": {},
   "outputs": [
    {
     "name": "stdout",
     "output_type": "stream",
     "text": [
      "קבצים: ['NTU60_CS.npz', 'NTU60_CV.npz']\n"
     ]
    }
   ],
   "source": [
    "base_path = \"../data\"\n",
    "file_list = os.listdir(base_path)\n",
    "print(\"קבצים:\", file_list)"
   ]
  },
  {
   "cell_type": "code",
   "execution_count": 4,
   "id": "5699e160",
   "metadata": {},
   "outputs": [
    {
     "name": "stdout",
     "output_type": "stream",
     "text": [
      "שדות בקובץ: ['x_train', 'y_train', 'x_test', 'y_test']\n"
     ]
    }
   ],
   "source": [
    "\n",
    "# טען קובץ ראשון\n",
    "data = np.load(os.path.join(base_path, file_list[0]), allow_pickle=True)\n",
    "print(\"שדות בקובץ:\", data.files)"
   ]
  },
  {
   "cell_type": "code",
   "execution_count": 5,
   "id": "7b90c96a",
   "metadata": {},
   "outputs": [
    {
     "name": "stdout",
     "output_type": "stream",
     "text": [
      "NpzFile '../data\\\\NTU60_CS.npz' with keys: x_train, y_train, x_test, y_test\n",
      "שדות בקובץ: ['x_train', 'y_train', 'x_test', 'y_test']\n"
     ]
    }
   ],
   "source": [
    "file_path = os.path.join(base_path, file_list[0])\n",
    "data = np.load(file_path, allow_pickle=True)\n",
    "print( data)\n",
    "print(\"שדות בקובץ:\", data.files)\n"
   ]
  },
  {
   "cell_type": "code",
   "execution_count": 6,
   "id": "d95b92d6",
   "metadata": {},
   "outputs": [
    {
     "name": "stdout",
     "output_type": "stream",
     "text": [
      "x_train: (40091, 300, 150)\n",
      "y_train: (40091, 60)\n"
     ]
    }
   ],
   "source": [
    "x_train = data['x_train']\n",
    "y_train = data['y_train']\n",
    "x_test = data['x_test']\n",
    "y_test = data['y_test']\n",
    "print(\"x_train:\", x_train.shape)\n",
    "print(\"y_train:\", y_train.shape)"
   ]
  },
  {
   "cell_type": "code",
   "execution_count": 7,
   "id": "543cb1b1",
   "metadata": {},
   "outputs": [
    {
     "name": "stdout",
     "output_type": "stream",
     "text": [
      "[[1. 0. 0. ... 0. 0. 0.]\n",
      " [0. 1. 0. ... 0. 0. 0.]\n",
      " [0. 0. 1. ... 0. 0. 0.]\n",
      " ...\n",
      " [0. 0. 0. ... 1. 0. 0.]\n",
      " [0. 0. 0. ... 0. 1. 0.]\n",
      " [0. 0. 0. ... 0. 0. 1.]]\n"
     ]
    }
   ],
   "source": [
    "print( y_train)"
   ]
  },
  {
   "cell_type": "code",
   "execution_count": 7,
   "id": "9a660065",
   "metadata": {},
   "outputs": [
    {
     "name": "stdout",
     "output_type": "stream",
     "text": [
      "sample shape: (300, 150)\n",
      "דגימה: [-0.0142139  -0.2600664   0.07078004  0.          0.          0.\n",
      "  0.0134507   0.2550613  -0.08086991 -0.0194785   0.3752589  -0.13277197\n",
      " -0.12139881  0.1784915   0.00219512 -0.1314542  -0.00399208  0.02782607\n",
      " -0.11363    -0.0897713  -0.15822506 -0.115794   -0.11529639 -0.16402602\n",
      "  0.11258529  0.1413751  -0.12611198  0.1888104  -0.0479089  -0.08698893\n",
      " -0.04042931 -0.11375588 -0.17401099 -0.10246171 -0.11562458 -0.17218995\n",
      " -0.06956321 -0.25812408  0.06370401 -0.03481771 -0.56871897  0.18961406\n",
      "  0.01194139 -0.8528631   0.3393798  -0.02829151 -0.9090596   0.3795271\n",
      "  0.03759418 -0.2648145   0.01523805  0.0782456  -0.5788935   0.103616\n",
      "  0.11055969 -0.8658776   0.22849107  0.06281899 -0.93439615  0.25412893\n",
      "  0.01022999  0.1920642  -0.05871201 -0.1123116  -0.13711679 -0.18235803\n",
      " -0.13335001 -0.0867022  -0.18722796 -0.14522856 -0.1337747  -0.16857696\n",
      " -0.1054839  -0.15126729 -0.16524196  0.          0.          0.\n",
      "  0.          0.          0.          0.          0.          0.\n",
      "  0.          0.          0.          0.          0.          0.\n",
      "  0.          0.          0.          0.          0.          0.\n",
      "  0.          0.          0.          0.          0.          0.\n",
      "  0.          0.          0.          0.          0.          0.\n",
      "  0.          0.          0.          0.          0.          0.\n",
      "  0.          0.          0.          0.          0.          0.\n",
      "  0.          0.          0.          0.          0.          0.\n",
      "  0.          0.          0.          0.          0.          0.\n",
      "  0.          0.          0.          0.          0.          0.\n",
      "  0.          0.          0.          0.          0.          0.\n",
      "  0.          0.          0.          0.          0.          0.        ]\n"
     ]
    }
   ],
   "source": [
    "sample= x_train[0]  \n",
    "print(\"sample shape:\", sample.shape)\n",
    "print(\"דגימה:\", sample[0])"
   ]
  },
  {
   "cell_type": "code",
   "execution_count": 8,
   "id": "4740a7f6",
   "metadata": {},
   "outputs": [
    {
     "data": {
      "text/html": [
       "<div>\n",
       "<style scoped>\n",
       "    .dataframe tbody tr th:only-of-type {\n",
       "        vertical-align: middle;\n",
       "    }\n",
       "\n",
       "    .dataframe tbody tr th {\n",
       "        vertical-align: top;\n",
       "    }\n",
       "\n",
       "    .dataframe thead th {\n",
       "        text-align: right;\n",
       "    }\n",
       "</style>\n",
       "<table border=\"1\" class=\"dataframe\">\n",
       "  <thead>\n",
       "    <tr style=\"text-align: right;\">\n",
       "      <th></th>\n",
       "      <th>x</th>\n",
       "      <th>y</th>\n",
       "      <th>z</th>\n",
       "    </tr>\n",
       "  </thead>\n",
       "  <tbody>\n",
       "    <tr>\n",
       "      <th>0</th>\n",
       "      <td>-0.014214</td>\n",
       "      <td>-0.260066</td>\n",
       "      <td>0.070780</td>\n",
       "    </tr>\n",
       "    <tr>\n",
       "      <th>1</th>\n",
       "      <td>0.000000</td>\n",
       "      <td>0.000000</td>\n",
       "      <td>0.000000</td>\n",
       "    </tr>\n",
       "    <tr>\n",
       "      <th>2</th>\n",
       "      <td>0.013451</td>\n",
       "      <td>0.255061</td>\n",
       "      <td>-0.080870</td>\n",
       "    </tr>\n",
       "    <tr>\n",
       "      <th>3</th>\n",
       "      <td>-0.019478</td>\n",
       "      <td>0.375259</td>\n",
       "      <td>-0.132772</td>\n",
       "    </tr>\n",
       "    <tr>\n",
       "      <th>4</th>\n",
       "      <td>-0.121399</td>\n",
       "      <td>0.178492</td>\n",
       "      <td>0.002195</td>\n",
       "    </tr>\n",
       "  </tbody>\n",
       "</table>\n",
       "</div>"
      ],
      "text/plain": [
       "          x         y         z\n",
       "0 -0.014214 -0.260066  0.070780\n",
       "1  0.000000  0.000000  0.000000\n",
       "2  0.013451  0.255061 -0.080870\n",
       "3 -0.019478  0.375259 -0.132772\n",
       "4 -0.121399  0.178492  0.002195"
      ]
     },
     "execution_count": 8,
     "metadata": {},
     "output_type": "execute_result"
    }
   ],
   "source": [
    "import pandas as pd\n",
    "pd.DataFrame(sample[0].reshape((50, 3)), columns=['x', 'y', 'z']).head()\n"
   ]
  },
  {
   "cell_type": "code",
   "execution_count": 16,
   "id": "cb60073a",
   "metadata": {},
   "outputs": [
    {
     "name": "stdout",
     "output_type": "stream",
     "text": [
      "פריים: [-0.0142139  -0.2600664   0.07078004  0.          0.          0.\n",
      "  0.0134507   0.2550613  -0.08086991 -0.0194785   0.3752589  -0.13277197\n",
      " -0.12139881  0.1784915   0.00219512 -0.1314542  -0.00399208  0.02782607\n",
      " -0.11363    -0.0897713  -0.15822506 -0.115794   -0.11529639 -0.16402602\n",
      "  0.11258529  0.1413751  -0.12611198  0.1888104  -0.0479089  -0.08698893\n",
      " -0.04042931 -0.11375588 -0.17401099 -0.10246171 -0.11562458 -0.17218995\n",
      " -0.06956321 -0.25812408  0.06370401 -0.03481771 -0.56871897  0.18961406\n",
      "  0.01194139 -0.8528631   0.3393798  -0.02829151 -0.9090596   0.3795271\n",
      "  0.03759418 -0.2648145   0.01523805  0.0782456  -0.5788935   0.103616\n",
      "  0.11055969 -0.8658776   0.22849107  0.06281899 -0.93439615  0.25412893\n",
      "  0.01022999  0.1920642  -0.05871201 -0.1123116  -0.13711679 -0.18235803\n",
      " -0.13335001 -0.0867022  -0.18722796 -0.14522856 -0.1337747  -0.16857696\n",
      " -0.1054839  -0.15126729 -0.16524196  0.          0.          0.\n",
      "  0.          0.          0.          0.          0.          0.\n",
      "  0.          0.          0.          0.          0.          0.\n",
      "  0.          0.          0.          0.          0.          0.\n",
      "  0.          0.          0.          0.          0.          0.\n",
      "  0.          0.          0.          0.          0.          0.\n",
      "  0.          0.          0.          0.          0.          0.\n",
      "  0.          0.          0.          0.          0.          0.\n",
      "  0.          0.          0.          0.          0.          0.\n",
      "  0.          0.          0.          0.          0.          0.\n",
      "  0.          0.          0.          0.          0.          0.\n",
      "  0.          0.          0.          0.          0.          0.\n",
      "  0.          0.          0.          0.          0.          0.        ]\n"
     ]
    },
    {
     "ename": "IndexError",
     "evalue": "invalid index to scalar variable.",
     "output_type": "error",
     "traceback": [
      "\u001b[31m---------------------------------------------------------------------------\u001b[39m",
      "\u001b[31mIndexError\u001b[39m                                Traceback (most recent call last)",
      "\u001b[36mCell\u001b[39m\u001b[36m \u001b[39m\u001b[32mIn[16]\u001b[39m\u001b[32m, line 3\u001b[39m\n\u001b[32m      1\u001b[39m frame = x_train[\u001b[32m0\u001b[39m][\u001b[32m0\u001b[39m]  \u001b[38;5;66;03m# הדוגמה הראשונה, הפריים הראשון\u001b[39;00m\n\u001b[32m      2\u001b[39m \u001b[38;5;28mprint\u001b[39m(\u001b[33m\"\u001b[39m\u001b[33mפריים:\u001b[39m\u001b[33m\"\u001b[39m, frame)\n\u001b[32m----> \u001b[39m\u001b[32m3\u001b[39m \u001b[43mplot_skeleton\u001b[49m\u001b[43m(\u001b[49m\u001b[43mframe\u001b[49m\u001b[43m)\u001b[49m\n",
      "\u001b[36mFile \u001b[39m\u001b[32mc:\\Users\\מנהל\\Desktop\\ntu_fitness_project\\utils\\skeleton_utils.py:13\u001b[39m, in \u001b[36mplot_skeleton\u001b[39m\u001b[34m(frame)\u001b[39m\n\u001b[32m     11\u001b[39m \u001b[38;5;28;01mdef\u001b[39;00m\u001b[38;5;250m \u001b[39m\u001b[34mplot_skeleton\u001b[39m(frame):\n\u001b[32m     12\u001b[39m     \u001b[38;5;28;01mfor\u001b[39;00m (i, j) \u001b[38;5;129;01min\u001b[39;00m connections:\n\u001b[32m---> \u001b[39m\u001b[32m13\u001b[39m         x = [\u001b[43mframe\u001b[49m\u001b[43m[\u001b[49m\u001b[43mi\u001b[49m\u001b[43m]\u001b[49m\u001b[43m[\u001b[49m\u001b[32;43m0\u001b[39;49m\u001b[43m]\u001b[49m, frame[j][\u001b[32m0\u001b[39m]]\n\u001b[32m     14\u001b[39m         y = [frame[i][\u001b[32m1\u001b[39m], frame[j][\u001b[32m1\u001b[39m]]\n\u001b[32m     15\u001b[39m         plt.plot(x, y, \u001b[33m'\u001b[39m\u001b[33mbo-\u001b[39m\u001b[33m'\u001b[39m)\n",
      "\u001b[31mIndexError\u001b[39m: invalid index to scalar variable."
     ]
    }
   ],
   "source": [
    "frame = x_train[0][0]  # הדוגמה הראשונה, הפריים הראשון\n",
    "print(\"פריים:\", frame)\n",
    "plot_skeleton(frame)\n"
   ]
  },
  {
   "cell_type": "code",
   "execution_count": 9,
   "id": "efd565fc",
   "metadata": {},
   "outputs": [
    {
     "name": "stdout",
     "output_type": "stream",
     "text": [
      "פריים אחרי reshape: (50, 3)\n"
     ]
    }
   ],
   "source": [
    "frame = sample[0].reshape((50, 3))\n",
    "print(\"פריים אחרי reshape:\", frame.shape)\n"
   ]
  },
  {
   "cell_type": "code",
   "execution_count": 10,
   "id": "6b24327c",
   "metadata": {},
   "outputs": [
    {
     "name": "stdout",
     "output_type": "stream",
     "text": [
      "50\n",
      "[-0.0142139  -0.2600664   0.07078004]\n"
     ]
    }
   ],
   "source": [
    "print(len(frame))          # כמה נקודות יש\n",
    "print(frame[0])            # איך נראית נקודה אחת\n"
   ]
  },
  {
   "cell_type": "code",
   "execution_count": 11,
   "id": "4255328b",
   "metadata": {},
   "outputs": [],
   "source": [
    "import sys\n",
    "import os\n",
    "sys.path.append(os.path.abspath(\"..\"))\n",
    "\n",
    "import matplotlib.pyplot as plt\n",
    "from utils.skeleton_utils import plot_skeleton"
   ]
  },
  {
   "cell_type": "code",
   "execution_count": 12,
   "id": "93a53685",
   "metadata": {},
   "outputs": [
    {
     "data": {
      "text/plain": [
       "array([[1., 0., 0., ..., 0., 0., 0.],\n",
       "       [0., 1., 0., ..., 0., 0., 0.],\n",
       "       [0., 0., 1., ..., 0., 0., 0.],\n",
       "       ...,\n",
       "       [0., 0., 0., ..., 1., 0., 0.],\n",
       "       [0., 0., 0., ..., 0., 1., 0.],\n",
       "       [0., 0., 0., ..., 0., 0., 1.]], shape=(40091, 60))"
      ]
     },
     "execution_count": 12,
     "metadata": {},
     "output_type": "execute_result"
    }
   ],
   "source": [
    "y_train"
   ]
  },
  {
   "cell_type": "code",
   "execution_count": 13,
   "id": "2a0c03cf",
   "metadata": {},
   "outputs": [
    {
     "name": "stdout",
     "output_type": "stream",
     "text": [
      "מספר פריימים בתנועה: 300\n",
      "label = [0. 0. 0. 0. 0. 0. 0. 0. 0. 0. 1. 0. 0. 0. 0. 0. 0. 0. 0. 0. 0. 0. 0. 0.\n",
      " 0. 0. 0. 0. 0. 0. 0. 0. 0. 0. 0. 0. 0. 0. 0. 0. 0. 0. 0. 0. 0. 0. 0. 0.\n",
      " 0. 0. 0. 0. 0. 0. 0. 0. 0. 0. 0. 0.]\n",
      "מספר תנועות ייחודיות: 2\n"
     ]
    }
   ],
   "source": [
    "i=10\n",
    "skeleton_sequence = x_train[i]\n",
    "print(\"מספר פריימים בתנועה:\", skeleton_sequence.shape[0])\n",
    "print(\"label =\", y_train[i])\n",
    "print(\"מספר תנועות ייחודיות:\", len(np.unique(y_train[1])))  # אמור להחזיר 60\n",
    "\n"
   ]
  },
  {
   "cell_type": "code",
   "execution_count": 14,
   "id": "21558594",
   "metadata": {},
   "outputs": [
    {
     "ename": "IndexError",
     "evalue": "invalid index to scalar variable.",
     "output_type": "error",
     "traceback": [
      "\u001b[31m---------------------------------------------------------------------------\u001b[39m",
      "\u001b[31mIndexError\u001b[39m                                Traceback (most recent call last)",
      "\u001b[36mCell\u001b[39m\u001b[36m \u001b[39m\u001b[32mIn[14]\u001b[39m\u001b[32m, line 4\u001b[39m\n\u001b[32m      2\u001b[39m plt.figure()\n\u001b[32m      3\u001b[39m \u001b[38;5;28;01mfor\u001b[39;00m frame \u001b[38;5;129;01min\u001b[39;00m skeleton_sequence:\n\u001b[32m----> \u001b[39m\u001b[32m4\u001b[39m     \u001b[43mplot_skeleton\u001b[49m\u001b[43m(\u001b[49m\u001b[43mframe\u001b[49m\u001b[43m)\u001b[49m\n",
      "\u001b[36mFile \u001b[39m\u001b[32mc:\\Users\\מנהל\\Desktop\\ntu_fitness_project\\utils\\skeleton_utils.py:13\u001b[39m, in \u001b[36mplot_skeleton\u001b[39m\u001b[34m(frame)\u001b[39m\n\u001b[32m     11\u001b[39m \u001b[38;5;28;01mdef\u001b[39;00m\u001b[38;5;250m \u001b[39m\u001b[34mplot_skeleton\u001b[39m(frame):\n\u001b[32m     12\u001b[39m     \u001b[38;5;28;01mfor\u001b[39;00m (i, j) \u001b[38;5;129;01min\u001b[39;00m connections:\n\u001b[32m---> \u001b[39m\u001b[32m13\u001b[39m         x = [\u001b[43mframe\u001b[49m\u001b[43m[\u001b[49m\u001b[43mi\u001b[49m\u001b[43m]\u001b[49m\u001b[43m[\u001b[49m\u001b[32;43m0\u001b[39;49m\u001b[43m]\u001b[49m, frame[j][\u001b[32m0\u001b[39m]]\n\u001b[32m     14\u001b[39m         y = [frame[i][\u001b[32m1\u001b[39m], frame[j][\u001b[32m1\u001b[39m]]\n\u001b[32m     15\u001b[39m         plt.plot(x, y, \u001b[33m'\u001b[39m\u001b[33mbo-\u001b[39m\u001b[33m'\u001b[39m)\n",
      "\u001b[31mIndexError\u001b[39m: invalid index to scalar variable."
     ]
    },
    {
     "data": {
      "text/plain": [
       "<Figure size 640x480 with 0 Axes>"
      ]
     },
     "metadata": {},
     "output_type": "display_data"
    }
   ],
   "source": [
    "# ננגן את השלד לאורך זמן\n",
    "plt.figure()\n",
    "for frame in skeleton_sequence:\n",
    "    plot_skeleton(frame)"
   ]
  },
  {
   "cell_type": "code",
   "execution_count": null,
   "id": "df11eb77",
   "metadata": {},
   "outputs": [],
   "source": []
  }
 ],
 "metadata": {
  "kernelspec": {
   "display_name": "Python (ntu_fitness)",
   "language": "python",
   "name": "ntu_fitness"
  },
  "language_info": {
   "codemirror_mode": {
    "name": "ipython",
    "version": 3
   },
   "file_extension": ".py",
   "mimetype": "text/x-python",
   "name": "python",
   "nbconvert_exporter": "python",
   "pygments_lexer": "ipython3",
   "version": "3.10.9"
  }
 },
 "nbformat": 4,
 "nbformat_minor": 5
}
