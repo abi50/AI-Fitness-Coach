{
 "cells": [
  {
   "cell_type": "code",
   "execution_count": 2,
   "id": "a9c11476",
   "metadata": {
    "scrolled": true
   },
   "outputs": [
    {
     "name": "stderr",
     "output_type": "stream",
     "text": [
      "ERROR: Could not find a version that satisfies the requirement mediapipe==0.10.9 (from versions: none)\n",
      "ERROR: No matching distribution found for mediapipe==0.10.9\n"
     ]
    }
   ],
   "source": [
    "!pip install mediapipe==0.10.9 opencv-python\n"
   ]
  },
  {
   "cell_type": "code",
   "execution_count": 4,
   "id": "3512de8e",
   "metadata": {},
   "outputs": [
    {
     "name": "stderr",
     "output_type": "stream",
     "text": [
      "Python \n"
     ]
    }
   ],
   "source": [
    "!python --version\n",
    "\n"
   ]
  },
  {
   "cell_type": "code",
   "execution_count": 1,
   "id": "35608fe0",
   "metadata": {},
   "outputs": [],
   "source": [
    "import cv2\n",
    "import mediapipe as mp\n",
    "import numpy as np\n",
    "mp_drawing= mp.solutions.drawing_utils\n",
    "mp_pose=mp.solutions.pose\n"
   ]
  },
  {
   "cell_type": "code",
   "execution_count": 7,
   "id": "c09ac531-6d1c-4768-a420-309a551adc63",
   "metadata": {},
   "outputs": [],
   "source": [
    "##פתיחת פיד רגיל בלי כלום\n",
    "\n",
    "cap=cv2.VideoCapture(0)\n",
    "while cap.isOpened():\n",
    "    ret, frame=cap.read()\n",
    "    cv2.imshow('MediaPipe Feed', frame)\n",
    "\n",
    "    if cv2.waitKey(10) & 0xFF == ord('q'):\n",
    "        break\n",
    "\n",
    "cap.release()\n",
    "cv2.destroyAllWindows()\n",
    "    \n"
   ]
  },
  {
   "cell_type": "code",
   "execution_count": 3,
   "id": "49cf80a4-f111-4bf5-9a2c-4060b957ff06",
   "metadata": {},
   "outputs": [],
   "source": [
    "cap=cv2.VideoCapture(0)\n",
    "with mp_pose.Pose(min_detection_confidence=0.5, min_tracking_confidence=0.5) as pose:\n",
    "    while cap.isOpened():\n",
    "        ret, frame = cap.read()\n",
    "\n",
    "        #אני ממירה את הפריימ לRGB כדי שמדיה פייפ יוכל לעבוד איתה\n",
    "        image = cv2.cvtColor(frame, cv2.COLOR_BGR2RGB)\n",
    "        image.flags.writeable = False\n",
    "\n",
    "        #שומרת בתוך מערך תוצאות את כל הנקודות של השלד שזיהיתי על ידי פוס\n",
    "        results = pose.process(image)\n",
    "\n",
    "        #ממירה חזרה כדי שיראו את התמונה נורמלי\n",
    "        image.flags.writeable = True\n",
    "        image = cv2.cvtColor(image, cv2.COLOR_RGB2BGR)\n",
    "        \n",
    "        #עכשיו אני מציירת את התוצאות על התמונה \n",
    "        mp_drawing.draw_landmarks(image, results.pose_landmarks, mp_pose.POSE_CONNECTIONS,\n",
    "                             mp_drawing.DrawingSpec(color=(245,117,66), thickness=2, circle_radius=2), \n",
    "                             mp_drawing.DrawingSpec(color=(245,66,230), thickness=2, circle_radius=2) \n",
    "                              )               \n",
    "        \n",
    "        cv2.imshow('MediaPipe Feed', image)\n",
    "\n",
    "        if cv2.waitKey(10) & 0xFF == ord('q'):\n",
    "            break\n",
    "\n",
    "    cap.release()\n",
    "    cv2.destroyAllWindows()"
   ]
  },
  {
   "cell_type": "code",
   "execution_count": null,
   "id": "ae2b25be-bd8d-4483-9a69-1fae21dae531",
   "metadata": {},
   "outputs": [],
   "source": []
  }
 ],
 "metadata": {
  "kernelspec": {
   "display_name": "Python 3",
   "language": "python",
   "name": "python3"
  },
  "language_info": {
   "codemirror_mode": {
    "name": "ipython",
    "version": 3
   },
   "file_extension": ".py",
   "mimetype": "text/x-python",
   "name": "python",
   "nbconvert_exporter": "python",
   "pygments_lexer": "ipython3",
   "version": "3.13.6"
  }
 },
 "nbformat": 4,
 "nbformat_minor": 5
}
